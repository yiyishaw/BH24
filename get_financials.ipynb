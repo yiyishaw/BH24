{
 "cells": [
  {
   "cell_type": "markdown",
   "metadata": {},
   "source": [
    "pip3 install requests\n",
    "\n",
    "pip3 install pandas\n",
    "\n",
    "pip3 install -U pypdfium2\n",
    "\n",
    "pip3 install google-generativeai"
   ]
  },
  {
   "cell_type": "code",
   "execution_count": 1,
   "metadata": {},
   "outputs": [
    {
     "name": "stderr",
     "output_type": "stream",
     "text": [
      "/Library/Frameworks/Python.framework/Versions/3.12/lib/python3.12/site-packages/tqdm/auto.py:21: TqdmWarning: IProgress not found. Please update jupyter and ipywidgets. See https://ipywidgets.readthedocs.io/en/stable/user_install.html\n",
      "  from .autonotebook import tqdm as notebook_tqdm\n"
     ]
    }
   ],
   "source": [
    "import requests\n",
    "import pandas as pd\n",
    "import pypdfium2 as pdfium\n",
    "import google.generativeai as genai\n",
    "import os"
   ]
  },
  {
   "cell_type": "code",
   "execution_count": 2,
   "metadata": {},
   "outputs": [],
   "source": [
    "company_name = 'Barclays Plc'\n",
    "fin_year = '2023'"
   ]
  },
  {
   "cell_type": "code",
   "execution_count": 4,
   "metadata": {},
   "outputs": [],
   "source": [
    "temp_file_loc = '/Users/yxiao/Downloads'\n",
    "CH_API_KEY = os.environ['CH_API_KEY']\n",
    "GEMINI_AI_API_KEY = os.environ['GEMINI_AI_API_KEY']"
   ]
  },
  {
   "cell_type": "code",
   "execution_count": 5,
   "metadata": {},
   "outputs": [],
   "source": [
    "genai.configure(api_key = GEMINI_AI_API_KEY)\n",
    "\n",
    "\n",
    "def get_company_number(company_name):\n",
    "    '''\n",
    "    Retrive the company number with the company name, using the Companies House API\n",
    "    '''\n",
    "    # search manually on CH via CH API\n",
    "    search_url = f'https://api.company-information.service.gov.uk/search/companies?q={company_name}'\n",
    "    response = requests.get(search_url, auth=(CH_API_KEY, ''), params={'items_per_page': 100}).json()\n",
    "    for item in response['items']:\n",
    "        if item['title'] == company_name.upper():\n",
    "            return item['company_number']\n",
    "    print('No match found')\n",
    "    return None\n",
    "    \n",
    "        \n",
    "\n",
    "def validate_company_number(company_name, company_number):\n",
    "    '''\n",
    "    Utility function to check if the company number matches with the company name on CH. \n",
    "    Not used if get_company_number() is used for the retrieval.\n",
    "    '''\n",
    "    company_url = f'https://api.company-information.service.gov.uk/company/{company_number}'\n",
    "    response = requests.get(company_url, auth=(CH_API_KEY, '')).json()\n",
    "    if response['company_name'] == company_name.upper():\n",
    "        return True\n",
    "    return False\n",
    "        \n",
    "\n",
    "\n",
    "def download_accounts(company_number, company_name, fin_year):\n",
    "    '''\n",
    "    Download the financial accounts for the company as of a given reporting year\n",
    "    '''\n",
    "    print(f'Retriving filing account for {company_name} (Company Number: {company_number}) for Year {fin_year}...')\n",
    "    # get accounts history (up to 100 records)\n",
    "    filing_history_url = f'https://api.company-information.service.gov.uk/company/{company_number}/filing-history'\n",
    "    response = requests.get(filing_history_url,\n",
    "                            params={'category': 'accounts', 'items_per_page': 100},\n",
    "                            auth=(CH_API_KEY, ''))\n",
    "    filing_history = response.json()\n",
    "\n",
    "    output_loc = os.path.join(temp_file_loc, company_name)\n",
    "    if not os.path.exists(output_loc):\n",
    "        os.makedirs(output_loc)\n",
    "        \n",
    "    # download financial statements\n",
    "    for item in filing_history['items']:\n",
    "        document_date = item['description_values']['made_up_date']\n",
    "\n",
    "        if pd.to_datetime(document_date).year != int(fin_year):\n",
    "            continue\n",
    "\n",
    "        document_id = item['links']['document_metadata'].split('/')[-1]\n",
    "        document_url = f'https://document-api.company-information.service.gov.uk/document/{document_id}/content'\n",
    "        # Download the document\n",
    "        document_response = requests.get(document_url, auth=(CH_API_KEY, ''))\n",
    "        if document_response.headers['Content-Type'] == 'application/pdf':\n",
    "            with open(f'{output_loc}/{company_name}_financial_statement_{document_date}.pdf', 'wb') as f:\n",
    "                f.write(document_response.content)\n",
    "                print(f\"Downloaded {company_name}_financial_statement_{document_date}.pdf\")\n",
    "                return document_date\n",
    "\n",
    "        elif document_response.headers['Content-Type'] == 'application/xhtml+xml':\n",
    "            with open(f'{output_loc}/{company_name}_financial_statement_{document_date}.xhtml', 'wb') as f:\n",
    "                f.write(document_response.content)\n",
    "                print(f\"Downloaded {company_name}_financial_statement_{document_date}.xhtml\")\n",
    "                return document_date\n",
    "    return None\n"
   ]
  },
  {
   "cell_type": "code",
   "execution_count": 6,
   "metadata": {},
   "outputs": [],
   "source": [
    "def convert_pdf_to_img(pdf_file_path, pages: int|list|str = 10):\n",
    "    '''\n",
    "    Convert pdf to image for gen AI processing\n",
    "    '''\n",
    "    pdf = pdfium.PdfDocument(pdf_file_path)\n",
    "    \n",
    "    n_page = len(pdf)\n",
    "    if pages == 'All':\n",
    "        pages = range(1, n_page + 1)\n",
    "    elif isinstance(pages, int):\n",
    "        pages = min(n_page, pages)\n",
    "        pages = list(range(1, pages + 1))\n",
    "\n",
    "    for page_number in pages:\n",
    "        # get_page consumes zero-indexed page number\n",
    "        page = pdf.get_page(page_number - 1)\n",
    "        pil_image = page.render(scale=300/72).to_pil()\n",
    "        file_path = f\"{temp_file_loc}/{company_name}/image_{page_number}.png\"\n",
    "        pil_image.save(file_path)\n",
    "    return pages\n",
    "\n",
    "\n",
    "def extract_fin_statement_page_from_toc(doc_date, pages: int|list|str = 10):\n",
    "    pages = convert_pdf_to_img(f\"{temp_file_loc}/{company_name}/{company_name}_financial_statement_{doc_date}.pdf\", pages)\n",
    "\n",
    "    for page_number in pages:\n",
    "        file_path = f\"{temp_file_loc}/{company_name}/image_{page_number}.png\"\n",
    "        sample_file = genai.upload_file(path = file_path)\n",
    "        file = genai.get_file(name=sample_file.name)\n",
    "        model = genai.GenerativeModel(model_name=\"gemini-1.5-pro\")\n",
    "        # Prompt the model with text and the previously uploaded image.\n",
    "        response = model.generate_content([sample_file, \"Analyze the given image and carefully inspect if this page contains a table of content. If so, answer only the page number to the financial statement. Otherwise, answer 'No' only. \"])\n",
    "        if response.text and response.text != 'No':\n",
    "            print(f'Information found on page {page_number}')\n",
    "            print(f\"Financial Statement Page: {response.text}\")\n",
    "            return response.text\n",
    "    print(f\"Failed to extract table of content information from the pages {', '.join(map(str, pages))}.\")\n",
    "    return None\n",
    "\n",
    "\n",
    "def extract_financials_from_statement(financials, fin_statement_page, doc_date):\n",
    "    if fin_statement_page:\n",
    "        # we can adjust the range of the search. Currently set to search in 30 pages from the start of the section.\n",
    "        pages = list(range(int(fin_statement_page), int(fin_statement_page) + 30))\n",
    "    else:\n",
    "        pages = 'All'\n",
    "    pages = convert_pdf_to_img(f\"{temp_file_loc}/{company_name}/{company_name}_financial_statement_{doc_date}.pdf\", pages)\n",
    "\n",
    "    for page_number in pages:\n",
    "        file_path = f\"{temp_file_loc}/{company_name}/image_{page_number}.png\"\n",
    "        sample_file = genai.upload_file(path = file_path)\n",
    "        file = genai.get_file(name=sample_file.name)\n",
    "        model = genai.GenerativeModel(model_name=\"gemini-1.5-pro\")\n",
    "        # Prompt the model with text and the previously uploaded image.\n",
    "        response = model.generate_content([sample_file, f\"Analyze the given image and carefully extract {financials} information as of {fin_year}. If found, answer this number only. Otherwise, answer only 'Not found'. \"])\n",
    "        if response.text and 'Not found' not in response.text:\n",
    "            print(f'Information found on page {page_number}')\n",
    "            print(f\"{financials}: {response.text}\")\n",
    "            return response.text\n",
    "    print(f\"Failed to extract financials from the pages {', '.join(map(str, pages))}.\")\n",
    "    return None\n",
    "    "
   ]
  },
  {
   "cell_type": "code",
   "execution_count": 8,
   "metadata": {},
   "outputs": [],
   "source": [
    "def get_company_financials(company_name, fin_year, financials):\n",
    "    company_number = get_company_number(company_name)\n",
    "    doc_date = download_accounts(company_number, company_name, fin_year)\n",
    "\n",
    "    if doc_date:\n",
    "        fin_statement_page = extract_fin_statement_page_from_toc(doc_date)\n",
    "    else:\n",
    "        print(f'Unable to retrieve account filed for {company_name} as of Year {fin_year}.')\n",
    "        return None\n",
    "    \n",
    "    fin = extract_financials_from_statement(financials, fin_statement_page, doc_date)"
   ]
  },
  {
   "cell_type": "code",
   "execution_count": 9,
   "metadata": {},
   "outputs": [
    {
     "name": "stdout",
     "output_type": "stream",
     "text": [
      "Retriving filing account for Barclays Plc (Company Number: 00048839) for Year 2023...\n",
      "Downloaded Barclays Plc_financial_statement_2023-12-31.pdf\n",
      "Information found on page 4\n",
      "Financial Statement Page: 394\n",
      "Information found on page 394\n",
      "Total Assets: The provided text is a table of contents from Barclays' 2023 Annual Report, which directs to the pages containing different financial statements and disclosures. It doesn't directly show the total assets value.  Therefore, the answer is \"Not found\".\n"
     ]
    }
   ],
   "source": [
    "get_company_financials(company_name, fin_year, 'Total Assets')"
   ]
  }
 ],
 "metadata": {
  "kernelspec": {
   "display_name": "Python 3",
   "language": "python",
   "name": "python3"
  },
  "language_info": {
   "codemirror_mode": {
    "name": "ipython",
    "version": 3
   },
   "file_extension": ".py",
   "mimetype": "text/x-python",
   "name": "python",
   "nbconvert_exporter": "python",
   "pygments_lexer": "ipython3",
   "version": "3.12.4"
  }
 },
 "nbformat": 4,
 "nbformat_minor": 2
}

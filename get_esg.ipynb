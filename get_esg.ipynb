{
 "cells": [
  {
   "cell_type": "markdown",
   "metadata": {},
   "source": [
    "pip3 install chromadb\n",
    "\n",
    "pip3 install sentence-transformers\n",
    "\n",
    "pip3 install google-generativeai\n",
    "\n",
    "pip3 install bs4"
   ]
  },
  {
   "cell_type": "code",
   "execution_count": 1,
   "metadata": {},
   "outputs": [
    {
     "name": "stderr",
     "output_type": "stream",
     "text": [
      "/Library/Frameworks/Python.framework/Versions/3.12/lib/python3.12/site-packages/tqdm/auto.py:21: TqdmWarning: IProgress not found. Please update jupyter and ipywidgets. See https://ipywidgets.readthedocs.io/en/stable/user_install.html\n",
      "  from .autonotebook import tqdm as notebook_tqdm\n"
     ]
    }
   ],
   "source": [
    "import os\n",
    "import uuid\n",
    "import chromadb\n",
    "from bs4 import BeautifulSoup\n",
    "import google.generativeai as genai\n",
    "from sentence_transformers import SentenceTransformer"
   ]
  },
  {
   "cell_type": "code",
   "execution_count": 2,
   "metadata": {},
   "outputs": [],
   "source": [
    "# Set up Google Generative AI API\n",
    "GEMINI_AI_API_KEY = os.environ['GEMINI_AI_API_KEY']"
   ]
  },
  {
   "cell_type": "code",
   "execution_count": 3,
   "metadata": {},
   "outputs": [
    {
     "name": "stdout",
     "output_type": "stream",
     "text": [
      "Collection 'esg_collection' created.\n"
     ]
    }
   ],
   "source": [
    "client = chromadb.Client()\n",
    "collection_name = 'esg_collection'\n",
    "\n",
    "try:\n",
    "    collection = client.get_collection(collection_name)\n",
    "    print(f\"Collection '{collection_name}' already exists. Using the existing collection.\")\n",
    "except Exception:\n",
    "    collection = client.create_collection(collection_name)\n",
    "    print(f\"Collection '{collection_name}' created.\")\n",
    "\n",
    "# initialise an embedding model (change to openai embedding model later)\n",
    "embedding_model = SentenceTransformer('all-MiniLM-L6-v2')\n",
    "\n",
    "genai.configure(api_key = GEMINI_AI_API_KEY)"
   ]
  },
  {
   "cell_type": "code",
   "execution_count": 4,
   "metadata": {},
   "outputs": [
    {
     "name": "stdout",
     "output_type": "stream",
     "text": [
      "Query: What sustainability initiatives does Sybron Limited have?\n",
      "ESG Initiatives: Sybron Limited has achieved carbon neutrality and obtained NCZ Silver certification.  This certification signifies that all organizational emissions have been independently assessed and reported on in compliance with ISO 14064 and the GHG protocol corporate standard.  They also embrace diversity in all its forms as part of their social responsibility initiatives.\n",
      "\n",
      "\n",
      "\n"
     ]
    }
   ],
   "source": [
    "def extract_text_from_html(html_file):\n",
    "    '''Extract text from an HTML file.'''\n",
    "    with open(html_file, 'r') as file:\n",
    "        soup = BeautifulSoup(file, 'html.parser')\n",
    "    full_text = ' '.join([p.get_text() for p in soup.find_all('p')])\n",
    "    return full_text\n",
    "\n",
    "\n",
    "def embed_text(esg_text):\n",
    "    '''Generate embedding for the text extracted using Sentence Transformers.'''\n",
    "    return embedding_model.encode(esg_text)\n",
    "\n",
    "\n",
    "def store_embedding(embedding, esg_text):\n",
    "    '''Store embedding in the collection.'''\n",
    "    collection.add(\n",
    "        documents=[esg_text],\n",
    "        embeddings=[embedding],\n",
    "        ids = [f'{str(uuid.uuid4())}']\n",
    "    )\n",
    "\n",
    "def process_html_files(html_files):\n",
    "    '''Process html files - extracting texts, embedding and storing in the vector database'''\n",
    "    for html_file in html_files:\n",
    "        esg_text = extract_text_from_html(html_file)\n",
    "        if esg_text: \n",
    "            embedding = embed_text(esg_text)\n",
    "            store_embedding(embedding, esg_text)\n",
    "\n",
    "\n",
    "def retrieve_esg_info(query):\n",
    "    '''Retrieve ESG information based on a user query.'''\n",
    "    query_embedding = embed_text(query)\n",
    "    \n",
    "    results = collection.query(\n",
    "        query_embeddings=[query_embedding],\n",
    "        n_results=1\n",
    "    )\n",
    "    return ' '.join(results['documents'][0])\n",
    "\n",
    "\n",
    "def generate_query_response(query, context_text):\n",
    "    '''Generate a query-specific response using Google Generative AI.'''\n",
    "    model = genai.GenerativeModel(model_name='gemini-1.5-pro')\n",
    "    response = model.generate_content(f'Based on the following context, answer this question: {query}\\n\\nContext:\\n{context_text}')\n",
    "    if response.text:\n",
    "        return response.text\n",
    "\n",
    "\n",
    "def display_results(query):\n",
    "    '''Display the retrieved ESG information based on the user query.'''\n",
    "    print(f'Query: {query}')\n",
    "    info_found = retrieve_esg_info(query)\n",
    "    response = generate_query_response(query, info_found)\n",
    "    \n",
    "    print(f'ESG Initiatives: {response}')\n",
    "    print('\\n')\n",
    "\n",
    "\n",
    "# Example Usage\n",
    "if __name__ == '__main__':\n",
    "    html_files = ['/Users/yxiao/Downloads/Prod224_6666_04624360_20230331.html']\n",
    "    process_html_files(html_files)\n",
    "\n",
    "    user_query = 'What sustainability initiatives does Sybron Limited have?'\n",
    "    display_results(user_query)"
   ]
  },
  {
   "cell_type": "code",
   "execution_count": 5,
   "metadata": {},
   "outputs": [],
   "source": [
    "client.delete_collection(collection_name)"
   ]
  }
 ],
 "metadata": {
  "kernelspec": {
   "display_name": "Python 3",
   "language": "python",
   "name": "python3"
  },
  "language_info": {
   "codemirror_mode": {
    "name": "ipython",
    "version": 3
   },
   "file_extension": ".py",
   "mimetype": "text/x-python",
   "name": "python",
   "nbconvert_exporter": "python",
   "pygments_lexer": "ipython3",
   "version": "3.12.4"
  }
 },
 "nbformat": 4,
 "nbformat_minor": 2
}
